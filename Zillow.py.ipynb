{
 "cells": [
  {
   "cell_type": "code",
   "execution_count": 3,
   "metadata": {},
   "outputs": [
    {
     "name": "stdout",
     "output_type": "stream",
     "text": [
      "403\n"
     ]
    }
   ],
   "source": [
    "from bs4 import BeautifulSoup\n",
    "import requests\n",
    "l=list()\n",
    "obj={}\n",
    "target_url = \"https://www.zillow.com/durham-nc\"\n",
    "headers={\"User-Agent\":\"Mozilla/5.0 (Windows NT 10.0; Win64; x64) AppleWebKit/537.36 (KHTML, like Gecko) Chrome/105.0.0.0 Safari/537.36\",\"Accept-Language\":\"en-US,en;q=0.9\",\"Accept\":\"text/html,application/xhtml+xml,application/xml;q=0.9,image/avif,image/webp,image/apng,*/*;q=0.8,application/signed-exchange;v=b3;q=0.9\",\"Accept-Encoding\":\"gzip, deflate, br\",\"upgrade-insecure-requests\":\"1\"}\n",
    "resp = requests.get(target_url, headers=headers)\n",
    "print(resp.status_code)"
   ]
  },
  {
   "cell_type": "code",
   "execution_count": null,
   "metadata": {},
   "outputs": [],
   "source": [
    "import requests\n",
    "from bs4 import BeautifulSoup\n",
    "l=list()\n",
    "obj={}\n",
    "target_url = \"https://www.zillow.com/homes/for_sale/Brooklyn,-New-York,-NY_rb/\"\n",
    "\n",
    "\n",
    "resp = requests.get(\"https://api.scrapingdog.com/scrape\", params={\n",
    "  'api_key': 'your-api-key',\n",
    "  'url': target_url,\n",
    "  'dynamic': 'false',\n",
    "  })\n",
    "print(resp.status_code)\n",
    "\n",
    "soup = BeautifulSoup(resp.text,'html.parser')\n",
    "properties = soup.find_all(\"li\",{\"class\":\"ListItem-c11n-8-102-0__sc-13rwu5a-0\"})\n",
    "for x in range(0,len(properties)):\n",
    "    try:\n",
    "        obj[\"pricing\"]=properties[x].find(\"span\",{'data-test':'property-card-price'}).text\n",
    "    except:\n",
    "        obj[\"pricing\"]=None\n",
    "\n",
    "    try:\n",
    "        obj[\"size\"]=properties[x].find(\"ul\",{\"class\":\"StyledPropertyCardHomeDetailsList-c11n-8-109-3__sc-1j0som5-0\"}).find_all('li')[-1].text\n",
    "    except:\n",
    "        obj[\"size\"]=None\n",
    "    try:\n",
    "        obj[\"address\"]=properties[x].find(\"address\").text\n",
    "    except:\n",
    "        obj[\"address\"]=None\n",
    "    l.append(obj)\n",
    "    obj={}\n",
    "\n",
    "print(l)"
   ]
  }
 ],
 "metadata": {
  "kernelspec": {
   "display_name": "Python 3",
   "language": "python",
   "name": "python3"
  },
  "language_info": {
   "codemirror_mode": {
    "name": "ipython",
    "version": 3
   },
   "file_extension": ".py",
   "mimetype": "text/x-python",
   "name": "python",
   "nbconvert_exporter": "python",
   "pygments_lexer": "ipython3",
   "version": "3.7.6"
  }
 },
 "nbformat": 4,
 "nbformat_minor": 4
}
