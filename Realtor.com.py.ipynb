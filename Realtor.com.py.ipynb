{
 "cells": [
  {
   "cell_type": "code",
   "execution_count": 2,
   "metadata": {},
   "outputs": [
    {
     "name": "stdout",
     "output_type": "stream",
     "text": [
      "<!DOCTYPE html>\n",
      "<html>\n",
      " <head>\n",
      " </head>\n",
      " <body>\n",
      "  <p style=\"\n",
      "                                                color: transparent;\n",
      "                                                animation: reveal 1s forwards 3s;\n",
      "                                                -webkit-animation: reveal 1s forwards 3s;\n",
      "                                                -moz-animation: reveal 1s forwards 3s;\n",
      "                                            \">\n",
      "   Your request could not be processed.\n",
      "   <br/>\n",
      "   If issues persist, please contact unblockrequest@realtor.com with details for further assistance.\n",
      "   <br/>\n",
      "   We apologize for the inconvenience.\n",
      "  </p>\n",
      "  <style>\n",
      "   @keyframes reveal { to { color: black; } }\n",
      "  </style>\n",
      "  <script>\n",
      "   window.KPSDK={};KPSDK.now=typeof performance!=='undefined'&&performance.now?performance.now.bind(performance):Date.now.bind(Date);KPSDK.start=KPSDK.now();\n",
      "  </script>\n",
      "  <script src=\"/149e9513-01fa-4fb0-aad4-566afd725d1b/2d206a39-8ed7-437e-a3be-862e0f06eea3/ips.js?KP_UIDz=0HmPZmGH1ngnYASvtTQ6UTv5es9hz0WEgW9D3xbncbhP1lzyEjQGZ8pmUGng5IQ5DDWPk04y2uz3AGwbbXjfjBjVyJbtSTxgubYvYpeWTGbBcQVel4v6ycrBIFiQnY8kbTEPvKM1IgUA9nqaS8iR7q4v8XL1NOF20001lye1iZus&amp;x-kpsdk-im=CiQyNjc2YmJjNy1iZDI0LTRiMTItOTRlMi0xNTQ0ODliZDllODM\">\n",
      "  </script>\n",
      " </body>\n",
      "</html>\n"
     ]
    }
   ],
   "source": [
    "from bs4 import BeautifulSoup\n",
    "import requests\n",
    "l=list()\n",
    "obj={}\n",
    "target_url = \"https://www.realtor.com/realestateandhomes-search/Media_PA\"\n",
    "result = requests.get(target_url)\n",
    "content = result.text\n",
    "soup = BeautifulSoup(content, 'lxml')\n",
    "\n",
    "#check raw HTML if it includes property listings\n",
    "print(soup.prettify())"
   ]
  }
 ],
 "metadata": {
  "kernelspec": {
   "display_name": "Python 3",
   "language": "python",
   "name": "python3"
  },
  "language_info": {
   "codemirror_mode": {
    "name": "ipython",
    "version": 3
   },
   "file_extension": ".py",
   "mimetype": "text/x-python",
   "name": "python",
   "nbconvert_exporter": "python",
   "pygments_lexer": "ipython3",
   "version": "3.7.6"
  }
 },
 "nbformat": 4,
 "nbformat_minor": 4
}
