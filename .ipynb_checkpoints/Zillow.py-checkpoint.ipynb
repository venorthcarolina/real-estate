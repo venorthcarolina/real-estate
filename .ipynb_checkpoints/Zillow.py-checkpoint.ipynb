{
 "cells": [
  {
   "cell_type": "code",
   "execution_count": 22,
   "metadata": {},
   "outputs": [
    {
     "name": "stdout",
     "output_type": "stream",
     "text": [
      "200\n",
      "[]\n"
     ]
    }
   ],
   "source": [
    "from bs4 import BeautifulSoup\n",
    "import requests\n",
    "l=list()\n",
    "obj={}\n",
    "target_url = \"https://www.zillow.com/homes/for_sale/Media,-Pennsylvania,-PA_rb/\"\n",
    "headers={\"User-Agent\":\"Mozilla/5.0 (Windows NT 10.0; Win64; x64) AppleWebKit/537.36 (KHTML, like Gecko) Chrome/105.0.0.0 Safari/537.36\",\"Accept-Language\":\"en-US,en;q=0.9\",\"Accept\":\"text/html,application/xhtml+xml,application/xml;q=0.9,image/avif,image/webp,image/apng,*/*;q=0.8,application/signed-exchange;v=b3;q=0.9\",\"Accept-Encoding\":\"gzip, deflate, br\",\"upgrade-insecure-requests\":\"1\"}\n",
    "resp = requests.get(target_url, headers=headers)\n",
    "print(resp.status_code)\n",
    "#need to get 200 to proceed\n",
    "\n",
    "#parse with BS4\n",
    "resp=resp.text\n",
    "#you could say lxml or html.parser\n",
    "soup = BeautifulSoup(resp,'lxml')\n",
    "properties = soup.find_all(\"li\",{\"class\":\"ListItem-c11n-8-102-0__sc-13rwu5a-0\"})\n",
    "print(properties)\n",
    "\n"
   ]
  },
  {
   "cell_type": "code",
   "execution_count": null,
   "metadata": {},
   "outputs": [],
   "source": [
    "for x in range(0,len(properties)):\n",
    "    try:\n",
    "        obj[\"pricing\"]=properties[x].find(\"span\",{'data-test':'property-card-price'}).text\n",
    "    except:\n",
    "        obj[\"pricing\"]=None\n",
    "\n",
    "    try:\n",
    "        obj[\"size\"]=properties[x].find(\"ul\",{\"class\":\"StyledPropertyCardHomeDetailsList-c11n-8-109-3__sc-1j0som5-0\"}).find_all('li')[-1].text\n",
    "    except:\n",
    "        obj[\"size\"]=None\n",
    "    try:\n",
    "        obj[\"address\"]=properties[x].find(\"address\").text\n",
    "    except:\n",
    "        obj[\"address\"]=None\n",
    "    l.append(obj)\n",
    "    obj={}\n",
    "\n",
    "print(l)"
   ]
  },
  {
   "cell_type": "code",
   "execution_count": 29,
   "metadata": {},
   "outputs": [
    {
     "ename": "ModuleNotFoundError",
     "evalue": "No module named 'selenium'",
     "output_type": "error",
     "traceback": [
      "\u001b[0;31m---------------------------------------------------------------------------\u001b[0m",
      "\u001b[0;31mModuleNotFoundError\u001b[0m                       Traceback (most recent call last)",
      "\u001b[0;32m<ipython-input-29-3cb5aafff441>\u001b[0m in \u001b[0;36m<module>\u001b[0;34m\u001b[0m\n\u001b[1;32m      1\u001b[0m \u001b[0;31m#copy/paste tutorial from ScrapingDog\u001b[0m\u001b[0;34m\u001b[0m\u001b[0;34m\u001b[0m\u001b[0;34m\u001b[0m\u001b[0m\n\u001b[0;32m----> 2\u001b[0;31m \u001b[0;32mfrom\u001b[0m \u001b[0mselenium\u001b[0m \u001b[0;32mimport\u001b[0m \u001b[0mwebdriver\u001b[0m\u001b[0;34m\u001b[0m\u001b[0;34m\u001b[0m\u001b[0m\n\u001b[0m\u001b[1;32m      3\u001b[0m \u001b[0;32mfrom\u001b[0m \u001b[0mselenium\u001b[0m\u001b[0;34m.\u001b[0m\u001b[0mwebdriver\u001b[0m\u001b[0;34m.\u001b[0m\u001b[0mchrome\u001b[0m\u001b[0;34m.\u001b[0m\u001b[0mservice\u001b[0m \u001b[0;32mimport\u001b[0m \u001b[0mService\u001b[0m\u001b[0;34m\u001b[0m\u001b[0;34m\u001b[0m\u001b[0m\n\u001b[1;32m      4\u001b[0m \u001b[0;32mfrom\u001b[0m \u001b[0mselenium\u001b[0m\u001b[0;34m.\u001b[0m\u001b[0mwebdriver\u001b[0m\u001b[0;34m.\u001b[0m\u001b[0mcommon\u001b[0m\u001b[0;34m.\u001b[0m\u001b[0mby\u001b[0m \u001b[0;32mimport\u001b[0m \u001b[0mBy\u001b[0m\u001b[0;34m\u001b[0m\u001b[0;34m\u001b[0m\u001b[0m\n\u001b[1;32m      5\u001b[0m \u001b[0;32mfrom\u001b[0m \u001b[0mselenium\u001b[0m\u001b[0;34m.\u001b[0m\u001b[0mwebdriver\u001b[0m\u001b[0;34m.\u001b[0m\u001b[0mchrome\u001b[0m\u001b[0;34m.\u001b[0m\u001b[0moptions\u001b[0m \u001b[0;32mimport\u001b[0m \u001b[0mOptions\u001b[0m\u001b[0;34m\u001b[0m\u001b[0;34m\u001b[0m\u001b[0m\n",
      "\u001b[0;31mModuleNotFoundError\u001b[0m: No module named 'selenium'"
     ]
    }
   ],
   "source": [
    "#copy/paste tutorial from ScrapingDog\n",
    "from selenium import webdriver\n",
    "from selenium.webdriver.chrome.service import Service\n",
    "from selenium.webdriver.common.by import By\n",
    "from selenium.webdriver.chrome.options import Options\n",
    "from webdriver_manager.chrome import ChromeDriverManager\n",
    "from bs4 import BeautifulSoup\n",
    "import time\n",
    "\n",
    "# Selenium setup\n",
    "options = Options()\n",
    "options.add_argument(\"--headless\")  # Run in background\n",
    "options.add_argument(\"--no-sandbox\")\n",
    "options.add_argument(\"--disable-dev-shm-usage\")\n",
    "driver = webdriver.Chrome(service=Service(ChromeDriverManager().install()), options=options)\n",
    "\n",
    "# Load Zillow page\n",
    "target_url = \"https://www.zillow.com/homes/for_sale/Brooklyn,-New-York,-NY_rb/\"\n",
    "driver.get(target_url)\n",
    "\n",
    "# Wait for JavaScript to load\n",
    "time.sleep(5)\n",
    "\n",
    "# Parse with BeautifulSoup\n",
    "soup = BeautifulSoup(driver.page_source, 'html.parser')\n",
    "driver.quit()\n",
    "\n",
    "# Extract property data\n",
    "properties = soup.find_all(\"li\", class_=\"ListItem-c11n-8-102-0__sc-13rwu5a-0\")\n",
    "\n",
    "l = []\n",
    "for prop in properties:\n",
    "    obj = {}\n",
    "    try:\n",
    "        obj[\"pricing\"] = prop.find(\"span\", {'data-test': 'property-card-price'}).text\n",
    "    except:\n",
    "        obj[\"pricing\"] = None\n",
    "\n",
    "    try:\n",
    "        obj[\"size\"] = prop.find(\"ul\", {\"class\": \"StyledPropertyCardHomeDetailsList-c11n-8-109-3__sc-1j0som5-0\"}).find_all('li')[-1].text\n",
    "    except:\n",
    "        obj[\"size\"] = None\n",
    "\n",
    "    try:\n",
    "        obj[\"address\"] = prop.find(\"address\").text\n",
    "    except:\n",
    "        obj[\"address\"] = None\n",
    "\n",
    "    l.append(obj)\n",
    "\n",
    "# Print results\n",
    "print(l)\n"
   ]
  },
  {
   "cell_type": "code",
   "execution_count": null,
   "metadata": {},
   "outputs": [],
   "source": [
    "\n"
   ]
  },
  {
   "cell_type": "code",
   "execution_count": null,
   "metadata": {},
   "outputs": [],
   "source": []
  }
 ],
 "metadata": {
  "kernelspec": {
   "display_name": "Python 3",
   "language": "python",
   "name": "python3"
  },
  "language_info": {
   "codemirror_mode": {
    "name": "ipython",
    "version": 3
   },
   "file_extension": ".py",
   "mimetype": "text/x-python",
   "name": "python",
   "nbconvert_exporter": "python",
   "pygments_lexer": "ipython3",
   "version": "3.7.6"
  }
 },
 "nbformat": 4,
 "nbformat_minor": 4
}
